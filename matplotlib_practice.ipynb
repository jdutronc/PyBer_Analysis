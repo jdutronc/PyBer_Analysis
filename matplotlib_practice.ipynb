{
 "cells": [
  {
   "cell_type": "code",
   "execution_count": null,
   "id": "99b47d01",
   "metadata": {},
   "outputs": [],
   "source": [
    "%matplotlib inline"
   ]
  },
  {
   "cell_type": "code",
   "execution_count": null,
   "id": "b743c9a5",
   "metadata": {},
   "outputs": [],
   "source": [
    "# Import dependencies.\n",
    "import matplotlib.pyplot as plt"
   ]
  },
  {
   "cell_type": "code",
   "execution_count": null,
   "id": "9460adc9",
   "metadata": {},
   "outputs": [],
   "source": [
    "# Set the x-axis to a list of strings for each month.\n",
    "x_axis = [\"Jan\", \"Feb\", \"Mar\", \"April\", \"May\", \"June\", \"July\", \"Aug\", \"Sept\", \"Oct\", \"Nov\", \"Dec\"]\n",
    "\n",
    "# Set the y-axis to a list of floats as the total fare in US dollars accumulated for each month.\n",
    "y_axis = [10.02, 23.24, 39.20, 35.42, 32.34, 27.04, 43.82, 10.56, 11.85, 27.90, 20.71, 20.09]"
   ]
  },
  {
   "cell_type": "code",
   "execution_count": null,
   "id": "5ca825a7",
   "metadata": {},
   "outputs": [],
   "source": [
    "# Create the plot\n",
    "plt.plot(x_axis, y_axis)"
   ]
  },
  {
   "cell_type": "code",
   "execution_count": null,
   "id": "be732917",
   "metadata": {},
   "outputs": [],
   "source": [
    "# Create the plot with ax.plt()\n",
    "fig = plt.figure()\n",
    "ax = fig.add_subplot()\n",
    "ax.plot(x_axis,y_axis)"
   ]
  },
  {
   "cell_type": "code",
   "execution_count": null,
   "id": "ee3d87b8",
   "metadata": {},
   "outputs": [],
   "source": [
    "# Create the plot and add a label for the legend.\n",
    "plt.plot(x_axis, y_axis, label='Boston')\n",
    "# Create labels for the x and y axes.\n",
    "plt.xlabel(\"Date\")\n",
    "plt.ylabel(\"Fare($)\")\n",
    "# Set the y limit between 0 and 45.\n",
    "plt.ylim(0, 45)\n",
    "# Create a title.\n",
    "plt.title(\"PyBer Fare by Month\")\n",
    "# Add the legend.\n",
    "plt.legend()"
   ]
  },
  {
   "cell_type": "code",
   "execution_count": null,
   "id": "9137f282",
   "metadata": {},
   "outputs": [],
   "source": [
    "# Create the plot.\n",
    "plt.plot(x_axis, y_axis, marker=\"*\", color=\"blue\", linewidth=2, label='Boston')\n",
    "# Create labels for the x and y axes.\n",
    "plt.xlabel(\"Date\")\n",
    "plt.ylabel(\"Fare($)\")\n",
    "# Set the y limit between 0 and 45.\n",
    "plt.ylim(0, 45)\n",
    "# Create a title.\n",
    "plt.title(\"PyBer Fare by Month\")\n",
    "# Add a grid.\n",
    "plt.grid()\n",
    "# Add the legend.\n",
    "plt.legend()"
   ]
  },
  {
   "cell_type": "code",
   "execution_count": null,
   "id": "93207361",
   "metadata": {},
   "outputs": [],
   "source": [
    "# Change the line color to green\n",
    "# Change the marker to a diamond\n",
    "# Change the line width to 2 points\n",
    "fig, ax = plt.subplots()\n",
    "ax.plot(x_axis,y_axis,color=\"green\", marker=\"d\", linewidth=\"2\")\n",
    "\n",
    "# Add a legend for the city of Boston\n",
    "ax.legend(['Boston'])\n",
    "\n",
    "# Add a title and axes labels\n",
    "ax.set_title(\"PyBer Fares by Month\")\n",
    "ax.set_xlabel(\"Month\")\n",
    "ax.set_ylabel(\"Fares ($)\")\n",
    "\n",
    "# Add a y-axis limit\n",
    "ax.set_xlim(0,11)\n",
    "\n",
    "# Add gridlines\n",
    "ax.grid()\n"
   ]
  },
  {
   "cell_type": "code",
   "execution_count": null,
   "id": "5c014fce",
   "metadata": {},
   "outputs": [],
   "source": [
    "# Create the plot\n",
    "plt.bar(x_axis, y_axis)"
   ]
  },
  {
   "cell_type": "code",
   "execution_count": null,
   "id": "705ca7b5",
   "metadata": {},
   "outputs": [],
   "source": [
    "# Create the plot.\n",
    "plt.bar(x_axis, y_axis, color=\"green\", label='Boston')\n",
    "\n",
    "# Create labels for the x and y axes.\n",
    "plt.xlabel(\"Date\")\n",
    "plt.ylabel(\"Fare($)\")\n",
    "\n",
    "# Create a title.\n",
    "plt.title(\"PyBer Fare by Month\")\n",
    "\n",
    "# Add the legend.\n",
    "plt.legend()"
   ]
  },
  {
   "cell_type": "code",
   "execution_count": null,
   "id": "18d95f3d",
   "metadata": {},
   "outputs": [],
   "source": [
    "# Create the plot.\n",
    "plt.barh(x_axis, y_axis)\n",
    "plt.gca().invert_yaxis()"
   ]
  },
  {
   "cell_type": "code",
   "execution_count": null,
   "id": "5832a71f",
   "metadata": {},
   "outputs": [],
   "source": [
    "# Change the bar color to magenta\n",
    "plt.barh(x_axis,y_axis,color=\"magenta\")\n",
    "\n",
    "# Add a legend for the city of Boston\n",
    "plt.legend([\"Boston\"])\n",
    "\n",
    "# Add a title and axes labels\n",
    "plt.title(\"PyBer Fares by Month\")\n",
    "plt.xlabel(\"Month\")\n",
    "plt.ylabel(\"Fares ($)\")\n",
    "\n",
    "# Invert the y-axis so that January is at the top\n",
    "plt.gca().invert_yaxis()\n",
    "\n",
    "plt.show()"
   ]
  },
  {
   "cell_type": "code",
   "execution_count": null,
   "id": "61c7d9d2",
   "metadata": {},
   "outputs": [],
   "source": [
    "# Create the plot with ax.plt()\n",
    "fig, ax = plt.subplots()\n",
    "ax.bar(x_axis, y_axis)"
   ]
  },
  {
   "cell_type": "code",
   "execution_count": null,
   "id": "2a2f5381",
   "metadata": {},
   "outputs": [],
   "source": [
    "# Create the plot with ax.plt()\n",
    "fig, ax = plt.subplots()\n",
    "ax.barh(x_axis, y_axis)"
   ]
  },
  {
   "cell_type": "code",
   "execution_count": null,
   "id": "22777542",
   "metadata": {},
   "outputs": [],
   "source": [
    "# Create the plot with ax.plt()\n",
    "fig, ax = plt.subplots()\n",
    "ax.barh(y_axis, x_axis)"
   ]
  },
  {
   "cell_type": "code",
   "execution_count": null,
   "id": "242af294",
   "metadata": {},
   "outputs": [],
   "source": [
    "# Switch the axis so that the Fare($) data is on the x-axis.\n",
    "# Change the bar color to cyan.\n",
    "fig, ax = plt.subplots()\n",
    "ax.barh(x_axis, y_axis,color=\"cyan\")\n",
    "\n",
    "# Add a legend for the city of Chicago.\n",
    "ax.legend([\"Chicago\"])\n",
    "\n",
    "# Add a title and axes labels.\n",
    "ax.set_title(\"PyBer Fares by Month\")\n",
    "ax.set_xlabel(\"Fares ($)\")\n",
    "ax.set_ylabel(\"Month\")\n",
    "\n",
    "# Invert the y-axis data.\n",
    "ax.invert_yaxis()"
   ]
  },
  {
   "cell_type": "code",
   "execution_count": null,
   "id": "e4b09129",
   "metadata": {},
   "outputs": [],
   "source": [
    "# Set the x-axis to a list of strings for each month.\n",
    "x_axis = [\"Jan\", \"Feb\", \"Mar\", \"April\", \"May\", \"June\", \"July\", \"Aug\", \"Sept\", \"Oct\", \"Nov\", \"Dec\"]\n",
    "\n",
    "# Set the y-axis to a list of floats as the total fare in US dollars accumulated for each month.\n",
    "y_axis = [10.02, 23.24, 39.20, 35.42, 32.34, 27.04, 43.82, 10.56, 11.85, 27.90, 20.71, 20.09]"
   ]
  },
  {
   "cell_type": "code",
   "execution_count": null,
   "id": "2562ea96",
   "metadata": {},
   "outputs": [],
   "source": [
    "plt.scatter(x_axis, y_axis)"
   ]
  },
  {
   "cell_type": "code",
   "execution_count": null,
   "id": "7b0bc9f9",
   "metadata": {},
   "outputs": [],
   "source": [
    "# Switch the axis so that the Fare($) data is on the x-axis.\n",
    "# Change the color of the markers to red.\n",
    "plt.scatter(y_axis, x_axis, c=\"red\")\n",
    "\n",
    "# Add a legend for the city of Chicago.\n",
    "plt.legend([\"Chicago\"])\n",
    "\n",
    "# Add a title and axes labels.\n",
    "plt.title(\"PyBer Fares by Month\")\n",
    "plt.xlabel(\"Fares ($)\")\n",
    "plt.ylabel(\"Month\")\n",
    "\n",
    "# Add a limit for the x-axis data.\n",
    "plt.xlim(0,50)\n",
    "\n",
    "# Invert the y-axis so that January is at the top.\n",
    "plt.gca().invert_yaxis()\n"
   ]
  },
  {
   "cell_type": "code",
   "execution_count": null,
   "id": "68eeee6c",
   "metadata": {},
   "outputs": [],
   "source": [
    "plt.scatter(x_axis, y_axis, s=y_axis)"
   ]
  },
  {
   "cell_type": "code",
   "execution_count": null,
   "id": "1f76686c",
   "metadata": {},
   "outputs": [],
   "source": [
    "y_axis_larger = []\n",
    "for data in y_axis:\n",
    "  y_axis_larger.append(data*3)\n",
    "\n",
    "plt.scatter(x_axis, y_axis, s=y_axis_larger)"
   ]
  },
  {
   "cell_type": "code",
   "execution_count": null,
   "id": "50bf08e2",
   "metadata": {},
   "outputs": [],
   "source": [
    "plt.scatter(x_axis, y_axis, s = [i * 3 for i in y_axis])"
   ]
  },
  {
   "cell_type": "code",
   "execution_count": null,
   "id": "200fbf71",
   "metadata": {},
   "outputs": [],
   "source": [
    "fig, ax = plt.subplots()\n",
    "ax.scatter(x_axis, y_axis)"
   ]
  },
  {
   "cell_type": "code",
   "execution_count": null,
   "id": "f8f9a7e5",
   "metadata": {},
   "outputs": [],
   "source": [
    "fig, ax = plt.subplots()\n",
    "ax.scatter(x_axis, y_axis, s=y_axis)"
   ]
  },
  {
   "cell_type": "code",
   "execution_count": null,
   "id": "0305c63b",
   "metadata": {},
   "outputs": [],
   "source": [
    "# Change the color of the markers to sky blue.\n",
    "# Change the size of the markers to 5 times each data point.\n",
    "# Make the color 20% transparent.\n",
    "# Add a black edge color to the circles.\n",
    "# Make the linewidth of the circles 2 points.\n",
    "# Switch the axis so that the Fare($) data is on the x-axis.\n",
    "fig, ax = plt.subplots()\n",
    "ax.scatter(y_axis, x_axis, c=\"b\", alpha=0.2, s=y_axis, edgecolors=\"k\", linewidth=2)\n",
    "\n",
    "# Add a legend for the city of Boston.\n",
    "ax.legend([\"Boston\"])\n",
    "\n",
    "# Add a title.\n",
    "ax.set_title(\"PyBer Fares by Month\")\n",
    "\n",
    "# Add a limit for the x-axis data.\n",
    "ax.set_xlim(0,50)\n",
    "\n",
    "# Invert the y-axis so that January is at the top.\n",
    "ax.invert_yaxis()"
   ]
  },
  {
   "cell_type": "code",
   "execution_count": null,
   "id": "9c837237",
   "metadata": {},
   "outputs": [],
   "source": [
    "plt.pie(y_axis, labels=x_axis)"
   ]
  },
  {
   "cell_type": "code",
   "execution_count": null,
   "id": "5fea5f27",
   "metadata": {},
   "outputs": [],
   "source": [
    "plt.subplots(figsize=(8,8))\n",
    "explode_values = (0, 0, 0, 0, 0, 0, 0.2, 0, 0, 0, 0, 0)\n",
    "plt.pie(y_axis, explode=explode_values, labels=x_axis, autopct='%.1f%%')"
   ]
  },
  {
   "cell_type": "code",
   "execution_count": null,
   "id": "d7bf937a",
   "metadata": {},
   "outputs": [],
   "source": [
    "# Assign 12 colors, one for each month.\n",
    "colors = [\"slateblue\", \"magenta\", \"lightblue\", \"green\", \"yellowgreen\", \"greenyellow\", \"yellow\", \"orange\", \"gold\", \"indianred\", \"tomato\", \"mistyrose\"]\n",
    "\n",
    "explode_values = (0, 0, 0, 0, 0, 0, 0.2, 0, 0, 0, 0, 0)\n",
    "plt.subplots(figsize=(8, 8))\n",
    "plt.pie(y_axis,\n",
    "    explode=explode_values,\n",
    "    colors=colors,\n",
    "    labels=x_axis,\n",
    "    autopct='%.1f%%')\n",
    "\n",
    "plt.show()"
   ]
  },
  {
   "cell_type": "code",
   "execution_count": null,
   "id": "a8baefb4",
   "metadata": {},
   "outputs": [],
   "source": [
    "fig, ax = plt.subplots()\n",
    "ax.pie(y_axis,labels=x_axis)\n",
    "plt.show()"
   ]
  },
  {
   "cell_type": "code",
   "execution_count": 138,
   "id": "686fcc7c",
   "metadata": {},
   "outputs": [
    {
     "data": {
      "image/png": "[encoded data removed]",
      "text/plain": [
       "<Figure size 576x576 with 1 Axes>"
      ]
     },
     "metadata": {},
     "output_type": "display_data"
    }
   ],
   "source": [
    "# Increase the figure size to 8x8.\n",
    "# Add a percentage to one decimal place to each wedge of the pie.\n",
    "# Explode the two highest percentage months.\n",
    "# Add a shadow.\n",
    "# Add a start angle so that January is at the top.\n",
    "# Add new colors of your own choosing or use the colors from the previous pie chart.\n",
    "fig, ax = plt.subplots(figsize=(8, 8))\n",
    "explode_values = [0,0,0.2,0,0,0,0.2,0,0,0,0,0]\n",
    "colors=[\"maroon\", \"darkred\", \"brown\", \"firebrick\", \"indianred\", \"lightcoral\", \"darksalmon\", \"salmon\", \"lightsalmon\", \"peachpuff\", \"mistyrose\", \"linen\"]\n",
    "ax.pie(y_axis,\n",
    "        labels=x_axis,\n",
    "        colors=colors,\n",
    "        autopct='%1.1f%%',\n",
    "        explode=explode_values,\n",
    "        shadow=True,\n",
    "        startangle=270)\n",
    "\n",
    "# Reverse the order so that the month order is in a clockwise direction.\n",
    "ax.invert_yaxis()\n"
   ]
  }
 ],
 "metadata": {
  "kernelspec": {
   "display_name": "PythonData",
   "language": "python",
   "name": "pythondata"
  },
  "language_info": {
   "codemirror_mode": {
    "name": "ipython",
    "version": 3
   },
   "file_extension": ".py",
   "mimetype": "text/x-python",
   "name": "python",
   "nbconvert_exporter": "python",
   "pygments_lexer": "ipython3",
   "version": "3.7.13"
  }
 },
 "nbformat": 4,
 "nbformat_minor": 5
}
